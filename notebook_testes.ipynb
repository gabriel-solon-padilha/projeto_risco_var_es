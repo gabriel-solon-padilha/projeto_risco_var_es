{
 "cells": [
  {
   "cell_type": "markdown",
   "metadata": {},
   "source": [
    "# Notebook para teste do funcionamento das funções"
   ]
  },
  {
   "cell_type": "markdown",
   "metadata": {},
   "source": [
    "### 1. Imports"
   ]
  },
  {
   "cell_type": "code",
   "execution_count": 1,
   "metadata": {},
   "outputs": [],
   "source": [
    "import pandas as pd\n",
    "import numpy as np\n",
    "from functions import load_df,calcula_log_retorno,calcula_retorno,calcula_var,calcula_es"
   ]
  },
  {
   "cell_type": "markdown",
   "metadata": {},
   "source": [
    "### 2. Teste função que calcula retornos"
   ]
  },
  {
   "cell_type": "code",
   "execution_count": 2,
   "metadata": {},
   "outputs": [
    {
     "data": {
      "text/html": [
       "<div>\n",
       "<style scoped>\n",
       "    .dataframe tbody tr th:only-of-type {\n",
       "        vertical-align: middle;\n",
       "    }\n",
       "\n",
       "    .dataframe tbody tr th {\n",
       "        vertical-align: top;\n",
       "    }\n",
       "\n",
       "    .dataframe thead th {\n",
       "        text-align: right;\n",
       "    }\n",
       "</style>\n",
       "<table border=\"1\" class=\"dataframe\">\n",
       "  <thead>\n",
       "    <tr style=\"text-align: right;\">\n",
       "      <th></th>\n",
       "      <th>date</th>\n",
       "      <th>price</th>\n",
       "    </tr>\n",
       "  </thead>\n",
       "  <tbody>\n",
       "    <tr>\n",
       "      <th>232</th>\n",
       "      <td>04/01/2021</td>\n",
       "      <td>5.261</td>\n",
       "    </tr>\n",
       "    <tr>\n",
       "      <th>231</th>\n",
       "      <td>05/01/2021</td>\n",
       "      <td>5.263</td>\n",
       "    </tr>\n",
       "    <tr>\n",
       "      <th>230</th>\n",
       "      <td>06/01/2021</td>\n",
       "      <td>5.283</td>\n",
       "    </tr>\n",
       "    <tr>\n",
       "      <th>229</th>\n",
       "      <td>07/01/2021</td>\n",
       "      <td>5.387</td>\n",
       "    </tr>\n",
       "    <tr>\n",
       "      <th>228</th>\n",
       "      <td>08/01/2021</td>\n",
       "      <td>5.416</td>\n",
       "    </tr>\n",
       "    <tr>\n",
       "      <th>...</th>\n",
       "      <td>...</td>\n",
       "      <td>...</td>\n",
       "    </tr>\n",
       "    <tr>\n",
       "      <th>4</th>\n",
       "      <td>01/12/2021</td>\n",
       "      <td>5.665</td>\n",
       "    </tr>\n",
       "    <tr>\n",
       "      <th>3</th>\n",
       "      <td>02/12/2021</td>\n",
       "      <td>5.652</td>\n",
       "    </tr>\n",
       "    <tr>\n",
       "      <th>2</th>\n",
       "      <td>03/12/2021</td>\n",
       "      <td>5.677</td>\n",
       "    </tr>\n",
       "    <tr>\n",
       "      <th>1</th>\n",
       "      <td>06/12/2021</td>\n",
       "      <td>5.686</td>\n",
       "    </tr>\n",
       "    <tr>\n",
       "      <th>0</th>\n",
       "      <td>07/12/2021</td>\n",
       "      <td>5.618</td>\n",
       "    </tr>\n",
       "  </tbody>\n",
       "</table>\n",
       "<p>233 rows × 2 columns</p>\n",
       "</div>"
      ],
      "text/plain": [
       "           date  price\n",
       "232  04/01/2021  5.261\n",
       "231  05/01/2021  5.263\n",
       "230  06/01/2021  5.283\n",
       "229  07/01/2021  5.387\n",
       "228  08/01/2021  5.416\n",
       "..          ...    ...\n",
       "4    01/12/2021  5.665\n",
       "3    02/12/2021  5.652\n",
       "2    03/12/2021  5.677\n",
       "1    06/12/2021  5.686\n",
       "0    07/12/2021  5.618\n",
       "\n",
       "[233 rows x 2 columns]"
      ]
     },
     "execution_count": 2,
     "metadata": {},
     "output_type": "execute_result"
    }
   ],
   "source": [
    "#Carregando o df\n",
    "df = load_df()\n",
    "df.sort_index(ascending=False)"
   ]
  },
  {
   "cell_type": "code",
   "execution_count": 3,
   "metadata": {},
   "outputs": [
    {
     "data": {
      "text/html": [
       "<div>\n",
       "<style scoped>\n",
       "    .dataframe tbody tr th:only-of-type {\n",
       "        vertical-align: middle;\n",
       "    }\n",
       "\n",
       "    .dataframe tbody tr th {\n",
       "        vertical-align: top;\n",
       "    }\n",
       "\n",
       "    .dataframe thead th {\n",
       "        text-align: right;\n",
       "    }\n",
       "</style>\n",
       "<table border=\"1\" class=\"dataframe\">\n",
       "  <thead>\n",
       "    <tr style=\"text-align: right;\">\n",
       "      <th></th>\n",
       "      <th>price</th>\n",
       "      <th>price_1</th>\n",
       "      <th>ret_rel_simples_1</th>\n",
       "    </tr>\n",
       "  </thead>\n",
       "  <tbody>\n",
       "    <tr>\n",
       "      <th>232</th>\n",
       "      <td>5.261</td>\n",
       "      <td>NaN</td>\n",
       "      <td>NaN</td>\n",
       "    </tr>\n",
       "    <tr>\n",
       "      <th>231</th>\n",
       "      <td>5.263</td>\n",
       "      <td>5.261</td>\n",
       "      <td>0.000380</td>\n",
       "    </tr>\n",
       "    <tr>\n",
       "      <th>230</th>\n",
       "      <td>5.283</td>\n",
       "      <td>5.263</td>\n",
       "      <td>0.003800</td>\n",
       "    </tr>\n",
       "    <tr>\n",
       "      <th>229</th>\n",
       "      <td>5.387</td>\n",
       "      <td>5.283</td>\n",
       "      <td>0.019686</td>\n",
       "    </tr>\n",
       "    <tr>\n",
       "      <th>228</th>\n",
       "      <td>5.416</td>\n",
       "      <td>5.387</td>\n",
       "      <td>0.005383</td>\n",
       "    </tr>\n",
       "    <tr>\n",
       "      <th>...</th>\n",
       "      <td>...</td>\n",
       "      <td>...</td>\n",
       "      <td>...</td>\n",
       "    </tr>\n",
       "    <tr>\n",
       "      <th>4</th>\n",
       "      <td>5.665</td>\n",
       "      <td>5.647</td>\n",
       "      <td>0.003188</td>\n",
       "    </tr>\n",
       "    <tr>\n",
       "      <th>3</th>\n",
       "      <td>5.652</td>\n",
       "      <td>5.665</td>\n",
       "      <td>-0.002295</td>\n",
       "    </tr>\n",
       "    <tr>\n",
       "      <th>2</th>\n",
       "      <td>5.677</td>\n",
       "      <td>5.652</td>\n",
       "      <td>0.004423</td>\n",
       "    </tr>\n",
       "    <tr>\n",
       "      <th>1</th>\n",
       "      <td>5.686</td>\n",
       "      <td>5.677</td>\n",
       "      <td>0.001585</td>\n",
       "    </tr>\n",
       "    <tr>\n",
       "      <th>0</th>\n",
       "      <td>5.618</td>\n",
       "      <td>5.686</td>\n",
       "      <td>-0.011959</td>\n",
       "    </tr>\n",
       "  </tbody>\n",
       "</table>\n",
       "<p>233 rows × 3 columns</p>\n",
       "</div>"
      ],
      "text/plain": [
       "     price  price_1  ret_rel_simples_1\n",
       "232  5.261      NaN                NaN\n",
       "231  5.263    5.261           0.000380\n",
       "230  5.283    5.263           0.003800\n",
       "229  5.387    5.283           0.019686\n",
       "228  5.416    5.387           0.005383\n",
       "..     ...      ...                ...\n",
       "4    5.665    5.647           0.003188\n",
       "3    5.652    5.665          -0.002295\n",
       "2    5.677    5.652           0.004423\n",
       "1    5.686    5.677           0.001585\n",
       "0    5.618    5.686          -0.011959\n",
       "\n",
       "[233 rows x 3 columns]"
      ]
     },
     "execution_count": 3,
     "metadata": {},
     "output_type": "execute_result"
    }
   ],
   "source": [
    "#Calculando o retorno\n",
    "df_retornos = calcula_retorno(pd_series = df.price,hp = 1,descending =True)\n",
    "df_retornos"
   ]
  },
  {
   "cell_type": "markdown",
   "metadata": {},
   "source": [
    "Se pegarmos cada (preço (t) - preço (t-1))/ preço (t) vemos que o resultado dá o mesmo que na função"
   ]
  },
  {
   "cell_type": "code",
   "execution_count": 4,
   "metadata": {},
   "outputs": [
    {
     "data": {
      "text/plain": [
       "232         NaN\n",
       "231    0.000380\n",
       "230    0.003786\n",
       "229    0.019306\n",
       "228    0.005355\n",
       "         ...   \n",
       "4      0.003177\n",
       "3     -0.002300\n",
       "2      0.004404\n",
       "1      0.001583\n",
       "0     -0.012104\n",
       "Name: price, Length: 233, dtype: float64"
      ]
     },
     "execution_count": 4,
     "metadata": {},
     "output_type": "execute_result"
    }
   ],
   "source": [
    "df_teste_1 = df.reset_index().sort_index(ascending=False) #série original está invertida\n",
    "(df_teste_1.price - df_teste_1.price.shift(1))/df_teste_1.price"
   ]
  },
  {
   "cell_type": "markdown",
   "metadata": {},
   "source": [
    "### 3. Teste função que calcula log retornos"
   ]
  },
  {
   "cell_type": "code",
   "execution_count": 5,
   "metadata": {},
   "outputs": [
    {
     "data": {
      "text/html": [
       "<div>\n",
       "<style scoped>\n",
       "    .dataframe tbody tr th:only-of-type {\n",
       "        vertical-align: middle;\n",
       "    }\n",
       "\n",
       "    .dataframe tbody tr th {\n",
       "        vertical-align: top;\n",
       "    }\n",
       "\n",
       "    .dataframe thead th {\n",
       "        text-align: right;\n",
       "    }\n",
       "</style>\n",
       "<table border=\"1\" class=\"dataframe\">\n",
       "  <thead>\n",
       "    <tr style=\"text-align: right;\">\n",
       "      <th></th>\n",
       "      <th>price</th>\n",
       "      <th>price_1</th>\n",
       "      <th>log_retorno_1</th>\n",
       "    </tr>\n",
       "  </thead>\n",
       "  <tbody>\n",
       "    <tr>\n",
       "      <th>232</th>\n",
       "      <td>5.261</td>\n",
       "      <td>NaN</td>\n",
       "      <td>NaN</td>\n",
       "    </tr>\n",
       "    <tr>\n",
       "      <th>231</th>\n",
       "      <td>5.263</td>\n",
       "      <td>5.261</td>\n",
       "      <td>0.000380</td>\n",
       "    </tr>\n",
       "    <tr>\n",
       "      <th>230</th>\n",
       "      <td>5.283</td>\n",
       "      <td>5.263</td>\n",
       "      <td>0.003793</td>\n",
       "    </tr>\n",
       "    <tr>\n",
       "      <th>229</th>\n",
       "      <td>5.387</td>\n",
       "      <td>5.283</td>\n",
       "      <td>0.019495</td>\n",
       "    </tr>\n",
       "    <tr>\n",
       "      <th>228</th>\n",
       "      <td>5.416</td>\n",
       "      <td>5.387</td>\n",
       "      <td>0.005369</td>\n",
       "    </tr>\n",
       "    <tr>\n",
       "      <th>...</th>\n",
       "      <td>...</td>\n",
       "      <td>...</td>\n",
       "      <td>...</td>\n",
       "    </tr>\n",
       "    <tr>\n",
       "      <th>4</th>\n",
       "      <td>5.665</td>\n",
       "      <td>5.647</td>\n",
       "      <td>0.003182</td>\n",
       "    </tr>\n",
       "    <tr>\n",
       "      <th>3</th>\n",
       "      <td>5.652</td>\n",
       "      <td>5.665</td>\n",
       "      <td>-0.002297</td>\n",
       "    </tr>\n",
       "    <tr>\n",
       "      <th>2</th>\n",
       "      <td>5.677</td>\n",
       "      <td>5.652</td>\n",
       "      <td>0.004413</td>\n",
       "    </tr>\n",
       "    <tr>\n",
       "      <th>1</th>\n",
       "      <td>5.686</td>\n",
       "      <td>5.677</td>\n",
       "      <td>0.001584</td>\n",
       "    </tr>\n",
       "    <tr>\n",
       "      <th>0</th>\n",
       "      <td>5.618</td>\n",
       "      <td>5.686</td>\n",
       "      <td>-0.012031</td>\n",
       "    </tr>\n",
       "  </tbody>\n",
       "</table>\n",
       "<p>233 rows × 3 columns</p>\n",
       "</div>"
      ],
      "text/plain": [
       "     price  price_1  log_retorno_1\n",
       "232  5.261      NaN            NaN\n",
       "231  5.263    5.261       0.000380\n",
       "230  5.283    5.263       0.003793\n",
       "229  5.387    5.283       0.019495\n",
       "228  5.416    5.387       0.005369\n",
       "..     ...      ...            ...\n",
       "4    5.665    5.647       0.003182\n",
       "3    5.652    5.665      -0.002297\n",
       "2    5.677    5.652       0.004413\n",
       "1    5.686    5.677       0.001584\n",
       "0    5.618    5.686      -0.012031\n",
       "\n",
       "[233 rows x 3 columns]"
      ]
     },
     "execution_count": 5,
     "metadata": {},
     "output_type": "execute_result"
    }
   ],
   "source": [
    "#calculando o log retorno\n",
    "df_logretornos = calcula_log_retorno(pd_series = df.price,hp = 1,descending =True)\n",
    "df_logretornos"
   ]
  },
  {
   "cell_type": "markdown",
   "metadata": {},
   "source": [
    "Se pegarmos cada ln(preço (t) / preço (t) vemos que o resultado dá o mesmo que na função"
   ]
  },
  {
   "cell_type": "code",
   "execution_count": 6,
   "metadata": {},
   "outputs": [
    {
     "data": {
      "text/plain": [
       "232         NaN\n",
       "231    0.000380\n",
       "230    0.003793\n",
       "229    0.019495\n",
       "228    0.005369\n",
       "         ...   \n",
       "4      0.003182\n",
       "3     -0.002297\n",
       "2      0.004413\n",
       "1      0.001584\n",
       "0     -0.012031\n",
       "Name: price, Length: 233, dtype: float64"
      ]
     },
     "execution_count": 6,
     "metadata": {},
     "output_type": "execute_result"
    }
   ],
   "source": [
    "df_teste_2 = df.reset_index().sort_index(ascending=False) #série original está invertida\n",
    "np.log(df_teste_2.price/df_teste_2.price.shift(1))"
   ]
  },
  {
   "cell_type": "markdown",
   "metadata": {},
   "source": [
    "### 4. Teste função que calcula o var"
   ]
  },
  {
   "cell_type": "code",
   "execution_count": 12,
   "metadata": {},
   "outputs": [
    {
     "data": {
      "text/plain": [
       "-0.09444999999999998"
      ]
     },
     "execution_count": 12,
     "metadata": {},
     "output_type": "execute_result"
    }
   ],
   "source": [
    "#caculando o var\n",
    "var_quantile, var_parametrico = calcula_var(pandas_serie_retornos=df_retornos['ret_rel_simples_1'],alpha=0.05,vlr_carteira_atual=5.261,descending=False)\n",
    "var_quantile"
   ]
  },
  {
   "cell_type": "markdown",
   "metadata": {},
   "source": [
    "considerando que o var quantile é o valor alpha quantil da distribuição vamos calcular ele manualmente a partir do primeiro df\n",
    "\n"
   ]
  },
  {
   "cell_type": "code",
   "execution_count": 13,
   "metadata": {},
   "outputs": [
    {
     "name": "stdout",
     "output_type": "stream",
     "text": [
      "Var alpha 5% -0.09444999999999996\n"
     ]
    }
   ],
   "source": [
    "df_teste_3 = df.reset_index().sort_index(ascending=False).copy()\n",
    "df_teste_3['pnl'] = df_teste_3.price - df_teste_3.price.shift(1)\n",
    "print(f'Var alpha 5% {df_teste_3.pnl.quantile(0.05)}')"
   ]
  },
  {
   "cell_type": "markdown",
   "metadata": {},
   "source": [
    "### 5. Teste função que calcula o ES"
   ]
  },
  {
   "cell_type": "code",
   "execution_count": 14,
   "metadata": {},
   "outputs": [
    {
     "data": {
      "text/plain": [
       "-0.11841666666666668"
      ]
     },
     "execution_count": 14,
     "metadata": {},
     "output_type": "execute_result"
    }
   ],
   "source": [
    "#Calculando o ES\n",
    "es = calcula_es(pandas_serie_retornos=df_retornos['ret_rel_simples_1'],var=var_quantile,vlr_carteira_atual=5.261,descending=False)\n",
    "es\n"
   ]
  },
  {
   "cell_type": "markdown",
   "metadata": {},
   "source": [
    "considerando que o es é a média de todos os valores em quantiles inferiores ao var, vamos calcular o es para o var 5% com valor inicial da carteira de 5.261"
   ]
  },
  {
   "cell_type": "code",
   "execution_count": 15,
   "metadata": {},
   "outputs": [
    {
     "data": {
      "text/plain": [
       "-0.11841666666666668"
      ]
     },
     "execution_count": 15,
     "metadata": {},
     "output_type": "execute_result"
    }
   ],
   "source": [
    "df_teste_3 = df.reset_index().sort_index(ascending=False).copy()\n",
    "df_teste_3['pnl'] = df_teste_3.price - df_teste_3.price.shift(1)\n",
    "var = df_teste_3.pnl.quantile(0.05)\n",
    "df_teste_3.loc[df_teste_3.pnl <= var,'pnl'].mean()"
   ]
  }
 ],
 "metadata": {
  "kernelspec": {
   "display_name": "Python 3.8.8 ('base')",
   "language": "python",
   "name": "python3"
  },
  "language_info": {
   "codemirror_mode": {
    "name": "ipython",
    "version": 3
   },
   "file_extension": ".py",
   "mimetype": "text/x-python",
   "name": "python",
   "nbconvert_exporter": "python",
   "pygments_lexer": "ipython3",
   "version": "3.8.8"
  },
  "orig_nbformat": 4,
  "vscode": {
   "interpreter": {
    "hash": "f0772a89b7b7552231f8b4808588399a8029470ff763161a0caeccf5fec49431"
   }
  }
 },
 "nbformat": 4,
 "nbformat_minor": 2
}
